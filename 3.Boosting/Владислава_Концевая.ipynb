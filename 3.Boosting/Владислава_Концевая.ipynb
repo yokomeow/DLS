{
 "cells": [
  {
   "cell_type": "markdown",
   "metadata": {},
   "source": [
    "# Владислава_Концевая"
   ]
  },
  {
   "cell_type": "markdown",
   "metadata": {
    "id": "TK7oX5qdEEYr"
   },
   "source": [
    "<p style=\"align: center;\"><img align=center src=\"https://s8.hostingkartinok.com/uploads/images/2018/08/308b49fcfbc619d629fe4604bceb67ac.jpg\" width=500 height=450/></p>\n",
    "\n",
    "<h3 style=\"text-align: center;\"><b>Школа глубокого обучения ФПМИ МФТИ</b></h3>\n",
    "\n",
    "<h3 style=\"text-align: center;\"><b>Домашнее задание. Продвинутый поток. Осень 2020</b></h3>\n",
    "\n",
    "Это домашнее задание будет посвящено полноценному решению задачи машинного обучения."
   ]
  },
  {
   "cell_type": "markdown",
   "metadata": {
    "id": "zlB-owfaEEYs"
   },
   "source": [
    "Есть две части этого домашнего задания: \n",
    "* Сделать полноценный отчет о вашей работе: как вы обработали данные, какие модели попробовали и какие результаты получились (максимум 10 баллов). За каждую выполненную часть будет начислено определенное количество баллов.\n",
    "* Лучшее решение отправить в соревнование на [kaggle](https://www.kaggle.com/t/f50bc21dbe0e42dabe5e32a21f2e5235) (максимум 5 баллов). За прохождение определенного порогов будут начисляться баллы.\n",
    "\n",
    "\n",
    "**Обе части будут проверяться в формате peer-review. Т.е. вашу посылку на степик будут проверять несколько других студентов и аггрегация их оценок будет выставлена. В то же время вам тоже нужно будет проверить несколько других учеников.**\n",
    "\n",
    "**Пожалуйста, делайте свою работу чистой и понятной, чтобы облегчить проверку. Если у вас будут проблемы с решением или хочется совета, то пишите в наш чат в телеграме или в лс @runfme. Если вы захотите проаппелировать оценку, то пипшите в лс @runfme.**\n",
    "\n",
    "**Во всех пунктах указания это минимальный набор вещей, которые стоит сделать. Если вы можете сделать какой-то шаг лучше или добавить что-то свое - дерзайте!**"
   ]
  },
  {
   "cell_type": "markdown",
   "metadata": {
    "id": "Tu_JvqcBEN8Y"
   },
   "source": [
    "# Как проверять?\n",
    "\n",
    "Ставьте полный балл, если выполнены все рекомендации или сделано что-то более интересное и сложное. За каждый отсустствующий пункт из рекомендация снижайте 1 балл."
   ]
  },
  {
   "cell_type": "markdown",
   "metadata": {
    "id": "ninJ63mJEEYt"
   },
   "source": [
    "# Метрика. \n",
    "\n",
    "Перед решением любой задачи важно понимать, как будет оцениваться ваше решение. В данном случае мы используем стандартную для задачи классификации метрику ROC-AUC. Ее можно вычислить используя только предсказанные вероятности и истинные классы без конкретного порога классификации + она раотает даже если классы в данных сильно несбалансированны (примеров одного класса в десятки раз больше примеров длугого). Именно поэтому она очень удобна для соревнований.\n",
    "\n",
    "Посчитать ее легко:\n"
   ]
  },
  {
   "cell_type": "code",
   "execution_count": 1,
   "metadata": {
    "colab": {
     "base_uri": "https://localhost:8080/"
    },
    "id": "SQIrka7yEEYu",
    "outputId": "e8de423e-29f0-40a2-c90c-0fb303d24939"
   },
   "outputs": [
    {
     "data": {
      "text/plain": [
       "0.8333333333333333"
      ]
     },
     "execution_count": 1,
     "metadata": {},
     "output_type": "execute_result"
    }
   ],
   "source": [
    "from sklearn.metrics import roc_auc_score\n",
    "\n",
    "y_true = [\n",
    "    0,\n",
    "    1,\n",
    "    1,\n",
    "    0,\n",
    "    1\n",
    "]\n",
    "\n",
    "y_predictions = [\n",
    "    0.1,\n",
    "    0.9,\n",
    "    0.4,\n",
    "    0.6,\n",
    "    0.61\n",
    "]\n",
    "\n",
    "roc_auc_score(y_true, y_predictions)"
   ]
  },
  {
   "cell_type": "markdown",
   "metadata": {
    "id": "IrDNNkNTEEYz"
   },
   "source": [
    "# Первая часть. Исследование."
   ]
  },
  {
   "cell_type": "code",
   "execution_count": 3,
   "metadata": {
    "id": "lzLqEeZKEEYz"
   },
   "outputs": [],
   "source": [
    "import pandas as pd\n",
    "import numpy as np\n",
    "from matplotlib import pyplot as plt"
   ]
  },
  {
   "cell_type": "markdown",
   "metadata": {
    "id": "LOlxdURSEEY3"
   },
   "source": [
    "## Загрузка данных (2 балла)\n",
    "\n",
    "1) Посмотрите на случайные строчки. \n",
    "\n",
    "2) Посмотрите, есть ли в датасете незаполненные значения (nan'ы) с помощью data.isna() или data.info() и, если нужно, замените их на что-то. Будет хорошо, если вы построите табличку с количеством nan в каждой колонке."
   ]
  },
  {
   "cell_type": "code",
   "execution_count": 17,
   "metadata": {
    "colab": {
     "base_uri": "https://localhost:8080/",
     "height": 374
    },
    "id": "pw-Brue9EEY3",
    "outputId": "f36f9a2c-68d6-4ecc-a832-5405ec624f1c"
   },
   "outputs": [],
   "source": [
    "data = pd.read_csv('./train.csv')"
   ]
  },
  {
   "cell_type": "code",
   "execution_count": 5,
   "metadata": {},
   "outputs": [
    {
     "data": {
      "text/html": [
       "<div>\n",
       "<style scoped>\n",
       "    .dataframe tbody tr th:only-of-type {\n",
       "        vertical-align: middle;\n",
       "    }\n",
       "\n",
       "    .dataframe tbody tr th {\n",
       "        vertical-align: top;\n",
       "    }\n",
       "\n",
       "    .dataframe thead th {\n",
       "        text-align: right;\n",
       "    }\n",
       "</style>\n",
       "<table border=\"1\" class=\"dataframe\">\n",
       "  <thead>\n",
       "    <tr style=\"text-align: right;\">\n",
       "      <th></th>\n",
       "      <th>ClientPeriod</th>\n",
       "      <th>MonthlySpending</th>\n",
       "      <th>TotalSpent</th>\n",
       "      <th>Sex</th>\n",
       "      <th>IsSeniorCitizen</th>\n",
       "      <th>HasPartner</th>\n",
       "      <th>HasChild</th>\n",
       "      <th>HasPhoneService</th>\n",
       "      <th>HasMultiplePhoneNumbers</th>\n",
       "      <th>HasInternetService</th>\n",
       "      <th>HasOnlineSecurityService</th>\n",
       "      <th>HasOnlineBackup</th>\n",
       "      <th>HasDeviceProtection</th>\n",
       "      <th>HasTechSupportAccess</th>\n",
       "      <th>HasOnlineTV</th>\n",
       "      <th>HasMovieSubscription</th>\n",
       "      <th>HasContractPhone</th>\n",
       "      <th>IsBillingPaperless</th>\n",
       "      <th>PaymentMethod</th>\n",
       "      <th>Churn</th>\n",
       "    </tr>\n",
       "  </thead>\n",
       "  <tbody>\n",
       "    <tr>\n",
       "      <th>0</th>\n",
       "      <td>55</td>\n",
       "      <td>19.50</td>\n",
       "      <td>1026.35</td>\n",
       "      <td>Male</td>\n",
       "      <td>0</td>\n",
       "      <td>Yes</td>\n",
       "      <td>Yes</td>\n",
       "      <td>Yes</td>\n",
       "      <td>No</td>\n",
       "      <td>No</td>\n",
       "      <td>No internet service</td>\n",
       "      <td>No internet service</td>\n",
       "      <td>No internet service</td>\n",
       "      <td>No internet service</td>\n",
       "      <td>No internet service</td>\n",
       "      <td>No internet service</td>\n",
       "      <td>One year</td>\n",
       "      <td>No</td>\n",
       "      <td>Mailed check</td>\n",
       "      <td>0</td>\n",
       "    </tr>\n",
       "    <tr>\n",
       "      <th>1</th>\n",
       "      <td>72</td>\n",
       "      <td>25.85</td>\n",
       "      <td>1872.20</td>\n",
       "      <td>Male</td>\n",
       "      <td>0</td>\n",
       "      <td>Yes</td>\n",
       "      <td>No</td>\n",
       "      <td>Yes</td>\n",
       "      <td>Yes</td>\n",
       "      <td>No</td>\n",
       "      <td>No internet service</td>\n",
       "      <td>No internet service</td>\n",
       "      <td>No internet service</td>\n",
       "      <td>No internet service</td>\n",
       "      <td>No internet service</td>\n",
       "      <td>No internet service</td>\n",
       "      <td>Two year</td>\n",
       "      <td>No</td>\n",
       "      <td>Credit card (automatic)</td>\n",
       "      <td>0</td>\n",
       "    </tr>\n",
       "    <tr>\n",
       "      <th>2</th>\n",
       "      <td>1</td>\n",
       "      <td>75.90</td>\n",
       "      <td>75.90</td>\n",
       "      <td>Male</td>\n",
       "      <td>0</td>\n",
       "      <td>No</td>\n",
       "      <td>No</td>\n",
       "      <td>Yes</td>\n",
       "      <td>No</td>\n",
       "      <td>Fiber optic</td>\n",
       "      <td>No</td>\n",
       "      <td>No</td>\n",
       "      <td>No</td>\n",
       "      <td>Yes</td>\n",
       "      <td>No</td>\n",
       "      <td>No</td>\n",
       "      <td>Month-to-month</td>\n",
       "      <td>Yes</td>\n",
       "      <td>Electronic check</td>\n",
       "      <td>1</td>\n",
       "    </tr>\n",
       "    <tr>\n",
       "      <th>3</th>\n",
       "      <td>32</td>\n",
       "      <td>79.30</td>\n",
       "      <td>2570.00</td>\n",
       "      <td>Female</td>\n",
       "      <td>1</td>\n",
       "      <td>Yes</td>\n",
       "      <td>No</td>\n",
       "      <td>Yes</td>\n",
       "      <td>Yes</td>\n",
       "      <td>Fiber optic</td>\n",
       "      <td>No</td>\n",
       "      <td>No</td>\n",
       "      <td>Yes</td>\n",
       "      <td>No</td>\n",
       "      <td>No</td>\n",
       "      <td>No</td>\n",
       "      <td>Month-to-month</td>\n",
       "      <td>No</td>\n",
       "      <td>Mailed check</td>\n",
       "      <td>0</td>\n",
       "    </tr>\n",
       "    <tr>\n",
       "      <th>4</th>\n",
       "      <td>60</td>\n",
       "      <td>115.25</td>\n",
       "      <td>6758.45</td>\n",
       "      <td>Female</td>\n",
       "      <td>0</td>\n",
       "      <td>Yes</td>\n",
       "      <td>Yes</td>\n",
       "      <td>Yes</td>\n",
       "      <td>Yes</td>\n",
       "      <td>Fiber optic</td>\n",
       "      <td>Yes</td>\n",
       "      <td>Yes</td>\n",
       "      <td>Yes</td>\n",
       "      <td>Yes</td>\n",
       "      <td>Yes</td>\n",
       "      <td>Yes</td>\n",
       "      <td>Two year</td>\n",
       "      <td>No</td>\n",
       "      <td>Credit card (automatic)</td>\n",
       "      <td>0</td>\n",
       "    </tr>\n",
       "  </tbody>\n",
       "</table>\n",
       "</div>"
      ],
      "text/plain": [
       "   ClientPeriod  MonthlySpending  TotalSpent     Sex  IsSeniorCitizen  \\\n",
       "0            55            19.50     1026.35    Male                0   \n",
       "1            72            25.85     1872.20    Male                0   \n",
       "2             1            75.90       75.90    Male                0   \n",
       "3            32            79.30     2570.00  Female                1   \n",
       "4            60           115.25     6758.45  Female                0   \n",
       "\n",
       "  HasPartner HasChild HasPhoneService HasMultiplePhoneNumbers  \\\n",
       "0        Yes      Yes             Yes                      No   \n",
       "1        Yes       No             Yes                     Yes   \n",
       "2         No       No             Yes                      No   \n",
       "3        Yes       No             Yes                     Yes   \n",
       "4        Yes      Yes             Yes                     Yes   \n",
       "\n",
       "  HasInternetService HasOnlineSecurityService      HasOnlineBackup  \\\n",
       "0                 No      No internet service  No internet service   \n",
       "1                 No      No internet service  No internet service   \n",
       "2        Fiber optic                       No                   No   \n",
       "3        Fiber optic                       No                   No   \n",
       "4        Fiber optic                      Yes                  Yes   \n",
       "\n",
       "   HasDeviceProtection HasTechSupportAccess          HasOnlineTV  \\\n",
       "0  No internet service  No internet service  No internet service   \n",
       "1  No internet service  No internet service  No internet service   \n",
       "2                   No                  Yes                   No   \n",
       "3                  Yes                   No                   No   \n",
       "4                  Yes                  Yes                  Yes   \n",
       "\n",
       "  HasMovieSubscription HasContractPhone IsBillingPaperless  \\\n",
       "0  No internet service         One year                 No   \n",
       "1  No internet service         Two year                 No   \n",
       "2                   No   Month-to-month                Yes   \n",
       "3                   No   Month-to-month                 No   \n",
       "4                  Yes         Two year                 No   \n",
       "\n",
       "             PaymentMethod  Churn  \n",
       "0             Mailed check      0  \n",
       "1  Credit card (automatic)      0  \n",
       "2         Electronic check      1  \n",
       "3             Mailed check      0  \n",
       "4  Credit card (automatic)      0  "
      ]
     },
     "execution_count": 5,
     "metadata": {},
     "output_type": "execute_result"
    }
   ],
   "source": [
    "data.head()"
   ]
  },
  {
   "cell_type": "code",
   "execution_count": 18,
   "metadata": {
    "id": "KgnkkF5bEEY9"
   },
   "outputs": [],
   "source": [
    "# Для вашего удобства списки с именами разных колонок\n",
    "\n",
    "# Числовые признаки\n",
    "num_cols = [\n",
    "    'ClientPeriod',\n",
    "    'MonthlySpending',\n",
    "    'TotalSpent'\n",
    "]\n",
    "\n",
    "# Категориальные признаки\n",
    "cat_cols = [\n",
    "    'Sex',\n",
    "    'IsSeniorCitizen',\n",
    "    'HasPartner',\n",
    "    'HasChild',\n",
    "    'HasPhoneService',\n",
    "    'HasMultiplePhoneNumbers',\n",
    "    'HasInternetService',\n",
    "    'HasOnlineSecurityService',\n",
    "    'HasOnlineBackup',\n",
    "    'HasDeviceProtection',\n",
    "    'HasTechSupportAccess',\n",
    "    'HasOnlineTV',\n",
    "    'HasMovieSubscription',\n",
    "    'HasContractPhone',\n",
    "    'IsBillingPaperless',\n",
    "    'PaymentMethod'\n",
    "]\n",
    "\n",
    "feature_cols = num_cols + cat_cols\n",
    "target_col = 'Churn'"
   ]
  },
  {
   "cell_type": "code",
   "execution_count": 19,
   "metadata": {
    "id": "tHC6gWabEEZA"
   },
   "outputs": [
    {
     "name": "stdout",
     "output_type": "stream",
     "text": [
      "ClientPeriod                0\n",
      "MonthlySpending             0\n",
      "TotalSpent                  9\n",
      "Sex                         0\n",
      "IsSeniorCitizen             0\n",
      "HasPartner                  0\n",
      "HasChild                    0\n",
      "HasPhoneService             0\n",
      "HasMultiplePhoneNumbers     0\n",
      "HasInternetService          0\n",
      "HasOnlineSecurityService    0\n",
      "HasOnlineBackup             0\n",
      "HasDeviceProtection         0\n",
      "HasTechSupportAccess        0\n",
      "HasOnlineTV                 0\n",
      "HasMovieSubscription        0\n",
      "HasContractPhone            0\n",
      "IsBillingPaperless          0\n",
      "PaymentMethod               0\n",
      "Churn                       0\n",
      "dtype: int64\n",
      "ClientPeriod                0\n",
      "MonthlySpending             0\n",
      "TotalSpent                  0\n",
      "Sex                         0\n",
      "IsSeniorCitizen             0\n",
      "HasPartner                  0\n",
      "HasChild                    0\n",
      "HasPhoneService             0\n",
      "HasMultiplePhoneNumbers     0\n",
      "HasInternetService          0\n",
      "HasOnlineSecurityService    0\n",
      "HasOnlineBackup             0\n",
      "HasDeviceProtection         0\n",
      "HasTechSupportAccess        0\n",
      "HasOnlineTV                 0\n",
      "HasMovieSubscription        0\n",
      "HasContractPhone            0\n",
      "IsBillingPaperless          0\n",
      "PaymentMethod               0\n",
      "Churn                       0\n",
      "dtype: int64\n"
     ]
    }
   ],
   "source": [
    "# Смотрим, сколько и где содержится nan'ов\n",
    "print(data.isnull().sum())\n",
    "\n",
    "# Заменяем nan'ы на нули (т.к. пропущенные значения оказались только у вещественных признаков)\n",
    "data = data.fillna(0)\n",
    "\n",
    "# Проверяем, что больше nan'ов не осталось\n",
    "print(data.isnull().sum())"
   ]
  },
  {
   "cell_type": "markdown",
   "metadata": {
    "id": "dK370bPCEEZD"
   },
   "source": [
    "## Анализ данных (3 балла)\n",
    "\n",
    "1) Для численных призанков постройте гистограмму (*plt.hist(...)*) или boxplot (*plt.boxplot(...)*). Для категориальных посчитайте количество каждого значения для каждого признака. Для каждой колонки надо сделать *data.value_counts()* и построить bar диаграммы *plt.bar(...)* или круговые диаграммы *plt.pie(...)* (хорошо, елси вы сможете это сделать на одном гарфике с помощью *plt.subplots(...)*). \n",
    "\n",
    "2) Посмотрите на распределение целевой переменной и скажите, являются ли классы несбалансированными.\n",
    "\n",
    "3) (Если будет желание) Поиграйте с разными библиотеками для визуализации - *sns*, *pandas_visual_analysis*, etc.\n",
    "\n",
    "Второй пункт очень важен, потому что существуют задачи классификации с несбалансированными классами. Например, это может значить, что в датасете намного больше примеров 0 класса. В таких случаях нужно 1) не использовать accuracy как метрику 2) использовать методы борьбы с imbalanced dataset (обычно если датасет сильно несбалансирован, т.е. класса 1 в 20 раз меньше класса 0)."
   ]
  },
  {
   "cell_type": "code",
   "execution_count": 6,
   "metadata": {
    "id": "NZkbgFJZEEZE"
   },
   "outputs": [
    {
     "data": {
      "image/png": "[encoded data removed]",
      "text/plain": [
       "<Figure size 1440x432 with 3 Axes>"
      ]
     },
     "metadata": {
      "needs_background": "light"
     },
     "output_type": "display_data"
    }
   ],
   "source": [
    "# Визуализация численных признаков\n",
    "fig, ax = plt.subplots(1, 3)\n",
    "fig.set_size_inches(20, 6)\n",
    "\n",
    "ax[0].hist(data[num_cols[0]], edgecolor='black', linewidth=1.2, color='magenta')\n",
    "ax[0].set_title(num_cols[0], fontweight=\"bold\", size=18)\n",
    "\n",
    "ax[1].hist(data[num_cols[1]], edgecolor='black', linewidth=1.2)\n",
    "ax[1].set_title(num_cols[1], fontweight=\"bold\", size=18)\n",
    "\n",
    "ax[2].hist(data[num_cols[2]], edgecolor='black', linewidth=1.2, color='orange')\n",
    "ax[2].set_title(num_cols[2], fontweight=\"bold\", size=18)\n",
    "\n",
    "plt.show()"
   ]
  },
  {
   "cell_type": "code",
   "execution_count": 7,
   "metadata": {},
   "outputs": [
    {
     "data": {
      "image/png": "[encoded data removed]",
      "text/plain": [
       "<Figure size 1440x1440 with 16 Axes>"
      ]
     },
     "metadata": {},
     "output_type": "display_data"
    }
   ],
   "source": [
    "# Визуализация категориальных признаков\n",
    "fig = plt.figure()\n",
    "fig.set_size_inches(20, 20)\n",
    "\n",
    "for idx, col in enumerate(cat_cols):\n",
    "    sub = fig.add_subplot(4, 4, idx + 1)\n",
    "    \n",
    "    sub.pie(data[col].value_counts(), \n",
    "            labels=data[col].value_counts().index, \n",
    "            autopct='%.0f%%',\n",
    "            textprops={'size': 'larger'}, \n",
    "            startangle=90,\n",
    "            radius=1.2)\n",
    "    \n",
    "    sub.set_title(col, fontweight=\"bold\", size=18)"
   ]
  },
  {
   "cell_type": "code",
   "execution_count": 8,
   "metadata": {},
   "outputs": [
    {
     "data": {
      "image/png": "[encoded data removed]",
      "text/plain": [
       "<Figure size 576x432 with 1 Axes>"
      ]
     },
     "metadata": {
      "needs_background": "light"
     },
     "output_type": "display_data"
    }
   ],
   "source": [
    "# Распределение целевой переменной\n",
    "plt.figure(figsize=(8, 6))\n",
    "plt.hist(data[target_col], edgecolor='black', linewidth=1.2, color='red')\n",
    "plt.title(target_col)\n",
    "plt.show()"
   ]
  },
  {
   "cell_type": "markdown",
   "metadata": {
    "id": "zg60u3QDEEZH"
   },
   "source": [
    "(Дополнительно) Если вы нашли какие-то ошибки в данных или выбросы, то можете их убрать. Тут можно поэксперементировать с обработкой данных как угодно, но не за баллы."
   ]
  },
  {
   "cell_type": "code",
   "execution_count": null,
   "metadata": {
    "id": "fwfksF1gEEZI"
   },
   "outputs": [],
   "source": [
    "# YOUR CODE"
   ]
  },
  {
   "cell_type": "markdown",
   "metadata": {
    "id": "DviiJd8REEZK"
   },
   "source": [
    "## Применение линейных моделей (3 балла)\n",
    "\n",
    "1) Обработайте данные для того, чтобы к ним можно было применить LogisticRegression. Т.е. отнормируйте числовые признаки, а категориальные закодируйте с помощью one-hot-encoding'а. \n",
    "\n",
    "2) С помощью кроссвалидации или разделения на train/valid выборку протестируйте разные значения гиперпараметра C и выберите лучший (можно тестировать С=100, 10, 1, 0.1, 0.01, 0.001) по метрике ROC-AUC. \n",
    "\n",
    "Если вы разделяете на train/valid, то используйте LogisticRegressionCV. Он сам при вызове .fit() подберет параметр С. (не забудьте передать scroing='roc_auc', чтобы при кроссвалидации сравнивались значения этой метрики, и refit=True, чтобы при потом модель обучилась на всем датасете с лучшим параметром C). \n",
    "\n",
    "\n",
    "(более сложный вариант) Если вы будете использовать кроссвалидацию, то преобразования данных и LogisticRegression нужно соединить в один Pipeline с помощью make_pipeline, как это делалось во втором семинаре. Потом pipeline надо передать в GridSearchCV. Для one-hot-encoding'a можно испльзовать комбинацию LabelEncoder + OneHotEncoder (сначала превращаем строчки в числа, а потом числа првращаем в one-hot вектора.)"
   ]
  },
  {
   "cell_type": "code",
   "execution_count": 15,
   "metadata": {
    "id": "xHCLDmwqEEZL"
   },
   "outputs": [],
   "source": [
    "from sklearn.linear_model import LogisticRegression, LogisticRegressionCV\n",
    "from sklearn.model_selection import train_test_split, GridSearchCV\n",
    "from sklearn.preprocessing import StandardScaler, RobustScaler, LabelEncoder, OneHotEncoder\n",
    "from sklearn.pipeline import make_pipeline"
   ]
  },
  {
   "cell_type": "code",
   "execution_count": 152,
   "metadata": {},
   "outputs": [],
   "source": [
    "# Сначала кодируем категориальные признаки\n",
    "enc = OneHotEncoder(drop='if_binary').fit(data[cat_cols])\n",
    "X_cat = pd.DataFrame(enc.transform(data[cat_cols]).toarray())\n",
    "X = pd.concat([data[num_cols], X_cat], axis=1)"
   ]
  },
  {
   "cell_type": "code",
   "execution_count": 153,
   "metadata": {},
   "outputs": [
    {
     "data": {
      "text/html": [
       "<div>\n",
       "<style scoped>\n",
       "    .dataframe tbody tr th:only-of-type {\n",
       "        vertical-align: middle;\n",
       "    }\n",
       "\n",
       "    .dataframe tbody tr th {\n",
       "        vertical-align: top;\n",
       "    }\n",
       "\n",
       "    .dataframe thead th {\n",
       "        text-align: right;\n",
       "    }\n",
       "</style>\n",
       "<table border=\"1\" class=\"dataframe\">\n",
       "  <thead>\n",
       "    <tr style=\"text-align: right;\">\n",
       "      <th></th>\n",
       "      <th>ClientPeriod</th>\n",
       "      <th>MonthlySpending</th>\n",
       "      <th>TotalSpent</th>\n",
       "      <th>0</th>\n",
       "      <th>1</th>\n",
       "      <th>2</th>\n",
       "      <th>3</th>\n",
       "      <th>4</th>\n",
       "      <th>5</th>\n",
       "      <th>6</th>\n",
       "      <th>...</th>\n",
       "      <th>27</th>\n",
       "      <th>28</th>\n",
       "      <th>29</th>\n",
       "      <th>30</th>\n",
       "      <th>31</th>\n",
       "      <th>32</th>\n",
       "      <th>33</th>\n",
       "      <th>34</th>\n",
       "      <th>35</th>\n",
       "      <th>36</th>\n",
       "    </tr>\n",
       "  </thead>\n",
       "  <tbody>\n",
       "    <tr>\n",
       "      <th>0</th>\n",
       "      <td>55</td>\n",
       "      <td>19.50</td>\n",
       "      <td>1026.35</td>\n",
       "      <td>1.0</td>\n",
       "      <td>0.0</td>\n",
       "      <td>1.0</td>\n",
       "      <td>1.0</td>\n",
       "      <td>1.0</td>\n",
       "      <td>1.0</td>\n",
       "      <td>0.0</td>\n",
       "      <td>...</td>\n",
       "      <td>1.0</td>\n",
       "      <td>0.0</td>\n",
       "      <td>0.0</td>\n",
       "      <td>1.0</td>\n",
       "      <td>0.0</td>\n",
       "      <td>0.0</td>\n",
       "      <td>0.0</td>\n",
       "      <td>0.0</td>\n",
       "      <td>0.0</td>\n",
       "      <td>1.0</td>\n",
       "    </tr>\n",
       "    <tr>\n",
       "      <th>1</th>\n",
       "      <td>72</td>\n",
       "      <td>25.85</td>\n",
       "      <td>1872.20</td>\n",
       "      <td>1.0</td>\n",
       "      <td>0.0</td>\n",
       "      <td>1.0</td>\n",
       "      <td>0.0</td>\n",
       "      <td>1.0</td>\n",
       "      <td>0.0</td>\n",
       "      <td>0.0</td>\n",
       "      <td>...</td>\n",
       "      <td>1.0</td>\n",
       "      <td>0.0</td>\n",
       "      <td>0.0</td>\n",
       "      <td>0.0</td>\n",
       "      <td>1.0</td>\n",
       "      <td>0.0</td>\n",
       "      <td>0.0</td>\n",
       "      <td>1.0</td>\n",
       "      <td>0.0</td>\n",
       "      <td>0.0</td>\n",
       "    </tr>\n",
       "    <tr>\n",
       "      <th>2</th>\n",
       "      <td>1</td>\n",
       "      <td>75.90</td>\n",
       "      <td>75.90</td>\n",
       "      <td>1.0</td>\n",
       "      <td>0.0</td>\n",
       "      <td>0.0</td>\n",
       "      <td>0.0</td>\n",
       "      <td>1.0</td>\n",
       "      <td>1.0</td>\n",
       "      <td>0.0</td>\n",
       "      <td>...</td>\n",
       "      <td>0.0</td>\n",
       "      <td>0.0</td>\n",
       "      <td>1.0</td>\n",
       "      <td>0.0</td>\n",
       "      <td>0.0</td>\n",
       "      <td>1.0</td>\n",
       "      <td>0.0</td>\n",
       "      <td>0.0</td>\n",
       "      <td>1.0</td>\n",
       "      <td>0.0</td>\n",
       "    </tr>\n",
       "    <tr>\n",
       "      <th>3</th>\n",
       "      <td>32</td>\n",
       "      <td>79.30</td>\n",
       "      <td>2570.00</td>\n",
       "      <td>0.0</td>\n",
       "      <td>1.0</td>\n",
       "      <td>1.0</td>\n",
       "      <td>0.0</td>\n",
       "      <td>1.0</td>\n",
       "      <td>0.0</td>\n",
       "      <td>0.0</td>\n",
       "      <td>...</td>\n",
       "      <td>0.0</td>\n",
       "      <td>0.0</td>\n",
       "      <td>1.0</td>\n",
       "      <td>0.0</td>\n",
       "      <td>0.0</td>\n",
       "      <td>0.0</td>\n",
       "      <td>0.0</td>\n",
       "      <td>0.0</td>\n",
       "      <td>0.0</td>\n",
       "      <td>1.0</td>\n",
       "    </tr>\n",
       "    <tr>\n",
       "      <th>4</th>\n",
       "      <td>60</td>\n",
       "      <td>115.25</td>\n",
       "      <td>6758.45</td>\n",
       "      <td>0.0</td>\n",
       "      <td>0.0</td>\n",
       "      <td>1.0</td>\n",
       "      <td>1.0</td>\n",
       "      <td>1.0</td>\n",
       "      <td>0.0</td>\n",
       "      <td>0.0</td>\n",
       "      <td>...</td>\n",
       "      <td>0.0</td>\n",
       "      <td>1.0</td>\n",
       "      <td>0.0</td>\n",
       "      <td>0.0</td>\n",
       "      <td>1.0</td>\n",
       "      <td>0.0</td>\n",
       "      <td>0.0</td>\n",
       "      <td>1.0</td>\n",
       "      <td>0.0</td>\n",
       "      <td>0.0</td>\n",
       "    </tr>\n",
       "    <tr>\n",
       "      <th>...</th>\n",
       "      <td>...</td>\n",
       "      <td>...</td>\n",
       "      <td>...</td>\n",
       "      <td>...</td>\n",
       "      <td>...</td>\n",
       "      <td>...</td>\n",
       "      <td>...</td>\n",
       "      <td>...</td>\n",
       "      <td>...</td>\n",
       "      <td>...</td>\n",
       "      <td>...</td>\n",
       "      <td>...</td>\n",
       "      <td>...</td>\n",
       "      <td>...</td>\n",
       "      <td>...</td>\n",
       "      <td>...</td>\n",
       "      <td>...</td>\n",
       "      <td>...</td>\n",
       "      <td>...</td>\n",
       "      <td>...</td>\n",
       "      <td>...</td>\n",
       "    </tr>\n",
       "    <tr>\n",
       "      <th>5277</th>\n",
       "      <td>3</td>\n",
       "      <td>30.40</td>\n",
       "      <td>82.15</td>\n",
       "      <td>1.0</td>\n",
       "      <td>0.0</td>\n",
       "      <td>0.0</td>\n",
       "      <td>0.0</td>\n",
       "      <td>0.0</td>\n",
       "      <td>0.0</td>\n",
       "      <td>1.0</td>\n",
       "      <td>...</td>\n",
       "      <td>0.0</td>\n",
       "      <td>0.0</td>\n",
       "      <td>1.0</td>\n",
       "      <td>0.0</td>\n",
       "      <td>0.0</td>\n",
       "      <td>0.0</td>\n",
       "      <td>0.0</td>\n",
       "      <td>0.0</td>\n",
       "      <td>1.0</td>\n",
       "      <td>0.0</td>\n",
       "    </tr>\n",
       "    <tr>\n",
       "      <th>5278</th>\n",
       "      <td>50</td>\n",
       "      <td>44.45</td>\n",
       "      <td>2188.45</td>\n",
       "      <td>1.0</td>\n",
       "      <td>0.0</td>\n",
       "      <td>1.0</td>\n",
       "      <td>0.0</td>\n",
       "      <td>0.0</td>\n",
       "      <td>0.0</td>\n",
       "      <td>1.0</td>\n",
       "      <td>...</td>\n",
       "      <td>0.0</td>\n",
       "      <td>0.0</td>\n",
       "      <td>0.0</td>\n",
       "      <td>1.0</td>\n",
       "      <td>0.0</td>\n",
       "      <td>1.0</td>\n",
       "      <td>1.0</td>\n",
       "      <td>0.0</td>\n",
       "      <td>0.0</td>\n",
       "      <td>0.0</td>\n",
       "    </tr>\n",
       "    <tr>\n",
       "      <th>5279</th>\n",
       "      <td>1</td>\n",
       "      <td>55.05</td>\n",
       "      <td>55.05</td>\n",
       "      <td>1.0</td>\n",
       "      <td>0.0</td>\n",
       "      <td>0.0</td>\n",
       "      <td>0.0</td>\n",
       "      <td>1.0</td>\n",
       "      <td>1.0</td>\n",
       "      <td>0.0</td>\n",
       "      <td>...</td>\n",
       "      <td>0.0</td>\n",
       "      <td>0.0</td>\n",
       "      <td>1.0</td>\n",
       "      <td>0.0</td>\n",
       "      <td>0.0</td>\n",
       "      <td>0.0</td>\n",
       "      <td>0.0</td>\n",
       "      <td>0.0</td>\n",
       "      <td>0.0</td>\n",
       "      <td>1.0</td>\n",
       "    </tr>\n",
       "    <tr>\n",
       "      <th>5280</th>\n",
       "      <td>29</td>\n",
       "      <td>76.00</td>\n",
       "      <td>2215.25</td>\n",
       "      <td>0.0</td>\n",
       "      <td>0.0</td>\n",
       "      <td>0.0</td>\n",
       "      <td>0.0</td>\n",
       "      <td>1.0</td>\n",
       "      <td>0.0</td>\n",
       "      <td>0.0</td>\n",
       "      <td>...</td>\n",
       "      <td>0.0</td>\n",
       "      <td>0.0</td>\n",
       "      <td>1.0</td>\n",
       "      <td>0.0</td>\n",
       "      <td>0.0</td>\n",
       "      <td>1.0</td>\n",
       "      <td>0.0</td>\n",
       "      <td>1.0</td>\n",
       "      <td>0.0</td>\n",
       "      <td>0.0</td>\n",
       "    </tr>\n",
       "    <tr>\n",
       "      <th>5281</th>\n",
       "      <td>19</td>\n",
       "      <td>75.90</td>\n",
       "      <td>1375.60</td>\n",
       "      <td>0.0</td>\n",
       "      <td>0.0</td>\n",
       "      <td>0.0</td>\n",
       "      <td>1.0</td>\n",
       "      <td>1.0</td>\n",
       "      <td>0.0</td>\n",
       "      <td>0.0</td>\n",
       "      <td>...</td>\n",
       "      <td>0.0</td>\n",
       "      <td>0.0</td>\n",
       "      <td>1.0</td>\n",
       "      <td>0.0</td>\n",
       "      <td>0.0</td>\n",
       "      <td>1.0</td>\n",
       "      <td>0.0</td>\n",
       "      <td>0.0</td>\n",
       "      <td>0.0</td>\n",
       "      <td>1.0</td>\n",
       "    </tr>\n",
       "  </tbody>\n",
       "</table>\n",
       "<p>5282 rows × 40 columns</p>\n",
       "</div>"
      ],
      "text/plain": [
       "      ClientPeriod  MonthlySpending  TotalSpent    0    1    2    3    4    5  \\\n",
       "0               55            19.50     1026.35  1.0  0.0  1.0  1.0  1.0  1.0   \n",
       "1               72            25.85     1872.20  1.0  0.0  1.0  0.0  1.0  0.0   \n",
       "2                1            75.90       75.90  1.0  0.0  0.0  0.0  1.0  1.0   \n",
       "3               32            79.30     2570.00  0.0  1.0  1.0  0.0  1.0  0.0   \n",
       "4               60           115.25     6758.45  0.0  0.0  1.0  1.0  1.0  0.0   \n",
       "...            ...              ...         ...  ...  ...  ...  ...  ...  ...   \n",
       "5277             3            30.40       82.15  1.0  0.0  0.0  0.0  0.0  0.0   \n",
       "5278            50            44.45     2188.45  1.0  0.0  1.0  0.0  0.0  0.0   \n",
       "5279             1            55.05       55.05  1.0  0.0  0.0  0.0  1.0  1.0   \n",
       "5280            29            76.00     2215.25  0.0  0.0  0.0  0.0  1.0  0.0   \n",
       "5281            19            75.90     1375.60  0.0  0.0  0.0  1.0  1.0  0.0   \n",
       "\n",
       "        6  ...   27   28   29   30   31   32   33   34   35   36  \n",
       "0     0.0  ...  1.0  0.0  0.0  1.0  0.0  0.0  0.0  0.0  0.0  1.0  \n",
       "1     0.0  ...  1.0  0.0  0.0  0.0  1.0  0.0  0.0  1.0  0.0  0.0  \n",
       "2     0.0  ...  0.0  0.0  1.0  0.0  0.0  1.0  0.0  0.0  1.0  0.0  \n",
       "3     0.0  ...  0.0  0.0  1.0  0.0  0.0  0.0  0.0  0.0  0.0  1.0  \n",
       "4     0.0  ...  0.0  1.0  0.0  0.0  1.0  0.0  0.0  1.0  0.0  0.0  \n",
       "...   ...  ...  ...  ...  ...  ...  ...  ...  ...  ...  ...  ...  \n",
       "5277  1.0  ...  0.0  0.0  1.0  0.0  0.0  0.0  0.0  0.0  1.0  0.0  \n",
       "5278  1.0  ...  0.0  0.0  0.0  1.0  0.0  1.0  1.0  0.0  0.0  0.0  \n",
       "5279  0.0  ...  0.0  0.0  1.0  0.0  0.0  0.0  0.0  0.0  0.0  1.0  \n",
       "5280  0.0  ...  0.0  0.0  1.0  0.0  0.0  1.0  0.0  1.0  0.0  0.0  \n",
       "5281  0.0  ...  0.0  0.0  1.0  0.0  0.0  1.0  0.0  0.0  0.0  1.0  \n",
       "\n",
       "[5282 rows x 40 columns]"
      ]
     },
     "execution_count": 153,
     "metadata": {},
     "output_type": "execute_result"
    }
   ],
   "source": [
    "X"
   ]
  },
  {
   "cell_type": "code",
   "execution_count": 154,
   "metadata": {},
   "outputs": [],
   "source": [
    "# Затем делим данные на обучающую и тестовую выборки\n",
    "X_train, X_test, y_train, y_test = train_test_split(X, \n",
    "                                                    data[target_col],\n",
    "                                                    test_size=0.2,\n",
    "                                                    random_state=42)"
   ]
  },
  {
   "cell_type": "code",
   "execution_count": 155,
   "metadata": {
    "id": "P2Yv3uYtEEZO"
   },
   "outputs": [
    {
     "data": {
      "text/plain": [
       "array([[-0.95407411, -0.63848353, -0.82019257],\n",
       "       [ 0.18448968,  0.18832755,  0.11838793],\n",
       "       [ 0.71310859,  1.368066  ,  1.34495048],\n",
       "       ...,\n",
       "       [-0.99473711,  0.62575866, -0.70529442],\n",
       "       [ 0.0625007 , -1.49346253, -0.70584417],\n",
       "       [ 0.42846764, -1.50671802, -0.66298551]])"
      ]
     },
     "execution_count": 155,
     "metadata": {},
     "output_type": "execute_result"
    }
   ],
   "source": [
    "# Нормируем значения численных признаков\n",
    "scaler = StandardScaler()\n",
    "scaler.fit_transform(X_train[num_cols])\n",
    "scaler.transform(X_test[num_cols])"
   ]
  },
  {
   "cell_type": "code",
   "execution_count": 156,
   "metadata": {},
   "outputs": [
    {
     "data": {
      "text/plain": [
       "LogisticRegressionCV(Cs=[100, 10, 1, 0.1, 0.01, 0.001], cv=5, n_jobs=-1,\n",
       "                     random_state=42, scoring='roc_auc')"
      ]
     },
     "execution_count": 156,
     "metadata": {},
     "output_type": "execute_result"
    }
   ],
   "source": [
    "# Обучаем логистическую регрессию и заодно подбираем лучший параметр C\n",
    "clf = LogisticRegressionCV(Cs=[100, 10, 1, 0.1, 0.01, 0.001], \n",
    "                           cv=5, \n",
    "                           scoring='roc_auc', \n",
    "                           n_jobs=-1, \n",
    "                           refit=True, \n",
    "                           random_state=42)\n",
    "clf.fit(X_train, y_train)"
   ]
  },
  {
   "cell_type": "code",
   "execution_count": 157,
   "metadata": {},
   "outputs": [],
   "source": [
    "y_pred = clf.predict_proba(X_test)"
   ]
  },
  {
   "cell_type": "markdown",
   "metadata": {
    "id": "uVahy6JKEEZQ"
   },
   "source": [
    "Выпишите какое лучшее качество и с какими параметрами вам удалось получить"
   ]
  },
  {
   "cell_type": "code",
   "execution_count": 158,
   "metadata": {},
   "outputs": [
    {
     "data": {
      "text/plain": [
       "array([1.])"
      ]
     },
     "execution_count": 158,
     "metadata": {},
     "output_type": "execute_result"
    }
   ],
   "source": [
    "# Лучший параметр\n",
    "clf.C_"
   ]
  },
  {
   "cell_type": "code",
   "execution_count": 159,
   "metadata": {},
   "outputs": [
    {
     "data": {
      "text/plain": [
       "0.8292959983745994"
      ]
     },
     "execution_count": 159,
     "metadata": {},
     "output_type": "execute_result"
    }
   ],
   "source": [
    "# Score\n",
    "roc_auc_score(y_test, y_pred[:, 1])"
   ]
  },
  {
   "cell_type": "markdown",
   "metadata": {
    "id": "36729TOQEEZR"
   },
   "source": []
  },
  {
   "cell_type": "markdown",
   "metadata": {
    "id": "BlTeVy7fEEZR"
   },
   "source": [
    "## Применение градиентного бустинга (2 балла)\n",
    "\n",
    "Если вы хотите получить баллы за точный ответ, то стоит попробовать градиентный бустинг. Часто градиентный бустинг с дефолтными параметрами даст вам 80% результата за 0% усилий.\n",
    "\n",
    "Мы будем использовать catboost, поэтому нам не надо кодировать категориальные признаки. catboost сделает это сам (в .fit() надо передать cat_features=cat_cols). А численные признаки нормировать для моделей, основанных на деревьях не нужно.\n",
    "\n",
    "1) Разделите выборку на train/valid. Протестируйте catboost cо стандартными параметрами.\n",
    "\n",
    "2) Протестируйте разные занчения параметроа количества деревьев и learning_rate'а и выберите лучшую по метрике ROC-AUC комбинацию. \n",
    "\n",
    "(Дополнительно) Есть некоторые сложности с тем, чтобы использовать CatBoostClassifier вместе с GridSearchCV, поэтому мы не просим использовать кроссвалидацию. Но можете попробовать)"
   ]
  },
  {
   "cell_type": "code",
   "execution_count": 80,
   "metadata": {
    "id": "Fioxxlp-EEZS"
   },
   "outputs": [],
   "source": [
    "#!pip3 install CatBoost"
   ]
  },
  {
   "cell_type": "code",
   "execution_count": 20,
   "metadata": {},
   "outputs": [],
   "source": [
    "from catboost import CatBoostClassifier"
   ]
  },
  {
   "cell_type": "code",
   "execution_count": 10,
   "metadata": {},
   "outputs": [
    {
     "data": {
      "text/plain": [
       "Index(['ClientPeriod', 'MonthlySpending', 'TotalSpent', 'Sex',\n",
       "       'IsSeniorCitizen', 'HasPartner', 'HasChild', 'HasPhoneService',\n",
       "       'HasMultiplePhoneNumbers', 'HasInternetService',\n",
       "       'HasOnlineSecurityService', 'HasOnlineBackup', 'HasDeviceProtection',\n",
       "       'HasTechSupportAccess', 'HasOnlineTV', 'HasMovieSubscription',\n",
       "       'HasContractPhone', 'IsBillingPaperless', 'PaymentMethod', 'Churn'],\n",
       "      dtype='object')"
      ]
     },
     "execution_count": 10,
     "metadata": {},
     "output_type": "execute_result"
    }
   ],
   "source": [
    "data.columns"
   ]
  },
  {
   "cell_type": "code",
   "execution_count": 154,
   "metadata": {},
   "outputs": [],
   "source": [
    "X_train, X_test, y_train, y_test = train_test_split(data[feature_cols], \n",
    "                                                    data[target_col],\n",
    "                                                    test_size=0.2,\n",
    "                                                    random_state=42)"
   ]
  },
  {
   "cell_type": "code",
   "execution_count": 249,
   "metadata": {},
   "outputs": [],
   "source": [
    "#!pip3 install ipywidgets ipython"
   ]
  },
  {
   "cell_type": "code",
   "execution_count": 280,
   "metadata": {},
   "outputs": [],
   "source": [
    "##cat_clf = CatBoostClassifier(loss_function='Logloss', \n",
    "                             cat_features=cat_cols, \n",
    "                             eval_metric='AUC', \n",
    "                             depth=4, \n",
    "                             learning_rate=0.03, \n",
    "                             l2_leaf_reg=.6, \n",
    "                             penalties_coefficient=.01,\n",
    "                             iterations=450)"
   ]
  },
  {
   "cell_type": "code",
   "execution_count": 156,
   "metadata": {},
   "outputs": [],
   "source": [
    "estimators = [CatBoostClassifier(random_state=rnd, \n",
    "                                 iterations=460,\n",
    "                                 loss_function='Logloss', \n",
    "                                 cat_features=cat_cols, \n",
    "                                 eval_metric='AUC', \n",
    "                                 depth=4, \n",
    "                                 learning_rate=.03, \n",
    "                                 l2_leaf_reg=.6,\n",
    "                                 #leaf_estimation_iterations=2,\n",
    "                                 penalties_coefficient=.01,\n",
    "                                 silent=True) for rnd in [0, 4, 9, 109, 666, 1042, 1488, 3228, 10042, 100042]]\n",
    "res = np.zeros(X_test.shape[0])\n",
    "for est in estimators:\n",
    "    est.fit(X_train, y_train)\n",
    "    res += est.predict_proba(X_test)[:, 1]\n",
    "res /= 10"
   ]
  },
  {
   "cell_type": "code",
   "execution_count": 157,
   "metadata": {},
   "outputs": [
    {
     "data": {
      "text/plain": [
       "0.8300001847046111"
      ]
     },
     "execution_count": 157,
     "metadata": {},
     "output_type": "execute_result"
    }
   ],
   "source": [
    "from sklearn.metrics import roc_auc_score\n",
    "roc_auc_score(y_test, res)"
   ]
  },
  {
   "cell_type": "code",
   "execution_count": 158,
   "metadata": {},
   "outputs": [],
   "source": [
    "X_test = pd.read_csv('./test.csv')  # Закомментировать, если активна предыдущая ячейка\n",
    "submission = pd.read_csv('./submission.csv')\n",
    "\n",
    "res = np.zeros(X_test.shape[0])\n",
    "for est in estimators:\n",
    "    res += est.predict_proba(X_test)[:, 1]\n",
    "res /= 10\n",
    "\n",
    "submission['Churn'] = res #np.where(res < .03, 0, res)\n",
    "submission.to_csv('./my_submission.csv', index=False)"
   ]
  },
  {
   "cell_type": "code",
   "execution_count": 144,
   "metadata": {},
   "outputs": [
    {
     "data": {
      "text/plain": [
       "0       0.0\n",
       "3       0.0\n",
       "4       0.0\n",
       "8       0.0\n",
       "14      0.0\n",
       "       ... \n",
       "1754    0.0\n",
       "1755    0.0\n",
       "1756    0.0\n",
       "1757    0.0\n",
       "1760    0.0\n",
       "Name: Churn, Length: 684, dtype: float64"
      ]
     },
     "execution_count": 144,
     "metadata": {},
     "output_type": "execute_result"
    }
   ],
   "source": [
    "submission['Churn'][res < .1]"
   ]
  },
  {
   "cell_type": "code",
   "execution_count": 282,
   "metadata": {},
   "outputs": [
    {
     "name": "stdout",
     "output_type": "stream",
     "text": [
      "0:\ttotal: 6.62ms\tremaining: 2.97s\n",
      "1:\ttotal: 11.6ms\tremaining: 2.6s\n",
      "2:\ttotal: 17.2ms\tremaining: 2.56s\n",
      "3:\ttotal: 22.6ms\tremaining: 2.52s\n",
      "4:\ttotal: 27.6ms\tremaining: 2.45s\n",
      "5:\ttotal: 33.2ms\tremaining: 2.46s\n",
      "6:\ttotal: 38.6ms\tremaining: 2.44s\n",
      "7:\ttotal: 43.4ms\tremaining: 2.4s\n",
      "8:\ttotal: 48.7ms\tremaining: 2.39s\n",
      "9:\ttotal: 53.5ms\tremaining: 2.35s\n",
      "10:\ttotal: 58.2ms\tremaining: 2.32s\n",
      "11:\ttotal: 63ms\tremaining: 2.3s\n",
      "12:\ttotal: 67.1ms\tremaining: 2.26s\n",
      "13:\ttotal: 72.3ms\tremaining: 2.25s\n",
      "14:\ttotal: 76.8ms\tremaining: 2.23s\n",
      "15:\ttotal: 82.7ms\tremaining: 2.24s\n",
      "16:\ttotal: 87.7ms\tremaining: 2.23s\n",
      "17:\ttotal: 93.4ms\tremaining: 2.24s\n",
      "18:\ttotal: 98.5ms\tremaining: 2.23s\n",
      "19:\ttotal: 104ms\tremaining: 2.24s\n",
      "20:\ttotal: 109ms\tremaining: 2.23s\n",
      "21:\ttotal: 115ms\tremaining: 2.23s\n",
      "22:\ttotal: 120ms\tremaining: 2.22s\n",
      "23:\ttotal: 125ms\tremaining: 2.22s\n",
      "24:\ttotal: 130ms\tremaining: 2.21s\n",
      "25:\ttotal: 135ms\tremaining: 2.19s\n",
      "26:\ttotal: 138ms\tremaining: 2.16s\n",
      "27:\ttotal: 143ms\tremaining: 2.16s\n",
      "28:\ttotal: 149ms\tremaining: 2.16s\n",
      "29:\ttotal: 153ms\tremaining: 2.14s\n",
      "30:\ttotal: 158ms\tremaining: 2.13s\n",
      "31:\ttotal: 163ms\tremaining: 2.12s\n",
      "32:\ttotal: 167ms\tremaining: 2.12s\n",
      "33:\ttotal: 172ms\tremaining: 2.11s\n",
      "34:\ttotal: 177ms\tremaining: 2.1s\n",
      "35:\ttotal: 182ms\tremaining: 2.1s\n",
      "36:\ttotal: 188ms\tremaining: 2.09s\n",
      "37:\ttotal: 193ms\tremaining: 2.09s\n",
      "38:\ttotal: 197ms\tremaining: 2.08s\n",
      "39:\ttotal: 202ms\tremaining: 2.07s\n",
      "40:\ttotal: 209ms\tremaining: 2.08s\n",
      "41:\ttotal: 217ms\tremaining: 2.1s\n",
      "42:\ttotal: 226ms\tremaining: 2.14s\n",
      "43:\ttotal: 235ms\tremaining: 2.17s\n",
      "44:\ttotal: 239ms\tremaining: 2.15s\n",
      "45:\ttotal: 244ms\tremaining: 2.14s\n",
      "46:\ttotal: 248ms\tremaining: 2.13s\n",
      "47:\ttotal: 252ms\tremaining: 2.11s\n",
      "48:\ttotal: 256ms\tremaining: 2.1s\n",
      "49:\ttotal: 260ms\tremaining: 2.08s\n",
      "50:\ttotal: 265ms\tremaining: 2.07s\n",
      "51:\ttotal: 270ms\tremaining: 2.07s\n",
      "52:\ttotal: 275ms\tremaining: 2.06s\n",
      "53:\ttotal: 280ms\tremaining: 2.05s\n",
      "54:\ttotal: 284ms\tremaining: 2.04s\n",
      "55:\ttotal: 288ms\tremaining: 2.03s\n",
      "56:\ttotal: 292ms\tremaining: 2.01s\n",
      "57:\ttotal: 297ms\tremaining: 2s\n",
      "58:\ttotal: 301ms\tremaining: 2s\n",
      "59:\ttotal: 306ms\tremaining: 1.99s\n",
      "60:\ttotal: 311ms\tremaining: 1.99s\n",
      "61:\ttotal: 316ms\tremaining: 1.98s\n",
      "62:\ttotal: 322ms\tremaining: 1.98s\n",
      "63:\ttotal: 327ms\tremaining: 1.97s\n",
      "64:\ttotal: 332ms\tremaining: 1.97s\n",
      "65:\ttotal: 337ms\tremaining: 1.96s\n",
      "66:\ttotal: 342ms\tremaining: 1.96s\n",
      "67:\ttotal: 347ms\tremaining: 1.95s\n",
      "68:\ttotal: 352ms\tremaining: 1.94s\n",
      "69:\ttotal: 357ms\tremaining: 1.94s\n",
      "70:\ttotal: 361ms\tremaining: 1.93s\n",
      "71:\ttotal: 367ms\tremaining: 1.93s\n",
      "72:\ttotal: 372ms\tremaining: 1.92s\n",
      "73:\ttotal: 376ms\tremaining: 1.91s\n",
      "74:\ttotal: 380ms\tremaining: 1.9s\n",
      "75:\ttotal: 384ms\tremaining: 1.89s\n",
      "76:\ttotal: 392ms\tremaining: 1.9s\n",
      "77:\ttotal: 401ms\tremaining: 1.91s\n",
      "78:\ttotal: 407ms\tremaining: 1.91s\n",
      "79:\ttotal: 418ms\tremaining: 1.93s\n",
      "80:\ttotal: 428ms\tremaining: 1.95s\n",
      "81:\ttotal: 434ms\tremaining: 1.95s\n",
      "82:\ttotal: 439ms\tremaining: 1.94s\n",
      "83:\ttotal: 444ms\tremaining: 1.93s\n",
      "84:\ttotal: 449ms\tremaining: 1.93s\n",
      "85:\ttotal: 454ms\tremaining: 1.92s\n",
      "86:\ttotal: 459ms\tremaining: 1.92s\n",
      "87:\ttotal: 462ms\tremaining: 1.9s\n",
      "88:\ttotal: 467ms\tremaining: 1.89s\n",
      "89:\ttotal: 471ms\tremaining: 1.89s\n",
      "90:\ttotal: 476ms\tremaining: 1.88s\n",
      "91:\ttotal: 481ms\tremaining: 1.87s\n",
      "92:\ttotal: 486ms\tremaining: 1.86s\n",
      "93:\ttotal: 491ms\tremaining: 1.86s\n",
      "94:\ttotal: 496ms\tremaining: 1.85s\n",
      "95:\ttotal: 501ms\tremaining: 1.84s\n",
      "96:\ttotal: 506ms\tremaining: 1.84s\n",
      "97:\ttotal: 511ms\tremaining: 1.84s\n",
      "98:\ttotal: 516ms\tremaining: 1.83s\n",
      "99:\ttotal: 521ms\tremaining: 1.82s\n",
      "100:\ttotal: 526ms\tremaining: 1.82s\n",
      "101:\ttotal: 531ms\tremaining: 1.81s\n",
      "102:\ttotal: 536ms\tremaining: 1.8s\n",
      "103:\ttotal: 541ms\tremaining: 1.8s\n",
      "104:\ttotal: 546ms\tremaining: 1.79s\n",
      "105:\ttotal: 550ms\tremaining: 1.79s\n",
      "106:\ttotal: 553ms\tremaining: 1.77s\n",
      "107:\ttotal: 557ms\tremaining: 1.76s\n",
      "108:\ttotal: 563ms\tremaining: 1.76s\n",
      "109:\ttotal: 568ms\tremaining: 1.75s\n",
      "110:\ttotal: 572ms\tremaining: 1.75s\n",
      "111:\ttotal: 575ms\tremaining: 1.74s\n",
      "112:\ttotal: 580ms\tremaining: 1.73s\n",
      "113:\ttotal: 585ms\tremaining: 1.72s\n",
      "114:\ttotal: 590ms\tremaining: 1.72s\n",
      "115:\ttotal: 596ms\tremaining: 1.72s\n",
      "116:\ttotal: 607ms\tremaining: 1.73s\n",
      "117:\ttotal: 621ms\tremaining: 1.75s\n",
      "118:\ttotal: 629ms\tremaining: 1.75s\n",
      "119:\ttotal: 635ms\tremaining: 1.75s\n",
      "120:\ttotal: 644ms\tremaining: 1.75s\n",
      "121:\ttotal: 651ms\tremaining: 1.75s\n",
      "122:\ttotal: 659ms\tremaining: 1.75s\n",
      "123:\ttotal: 665ms\tremaining: 1.75s\n",
      "124:\ttotal: 669ms\tremaining: 1.74s\n",
      "125:\ttotal: 673ms\tremaining: 1.73s\n",
      "126:\ttotal: 678ms\tremaining: 1.73s\n",
      "127:\ttotal: 684ms\tremaining: 1.72s\n",
      "128:\ttotal: 688ms\tremaining: 1.71s\n",
      "129:\ttotal: 693ms\tremaining: 1.71s\n",
      "130:\ttotal: 699ms\tremaining: 1.7s\n",
      "131:\ttotal: 705ms\tremaining: 1.7s\n",
      "132:\ttotal: 708ms\tremaining: 1.69s\n",
      "133:\ttotal: 714ms\tremaining: 1.68s\n",
      "134:\ttotal: 718ms\tremaining: 1.68s\n",
      "135:\ttotal: 724ms\tremaining: 1.67s\n",
      "136:\ttotal: 728ms\tremaining: 1.66s\n",
      "137:\ttotal: 733ms\tremaining: 1.66s\n",
      "138:\ttotal: 737ms\tremaining: 1.65s\n",
      "139:\ttotal: 742ms\tremaining: 1.64s\n",
      "140:\ttotal: 747ms\tremaining: 1.64s\n",
      "141:\ttotal: 752ms\tremaining: 1.63s\n",
      "142:\ttotal: 757ms\tremaining: 1.63s\n",
      "143:\ttotal: 763ms\tremaining: 1.62s\n",
      "144:\ttotal: 768ms\tremaining: 1.61s\n",
      "145:\ttotal: 772ms\tremaining: 1.61s\n",
      "146:\ttotal: 777ms\tremaining: 1.6s\n",
      "147:\ttotal: 782ms\tremaining: 1.59s\n",
      "148:\ttotal: 786ms\tremaining: 1.59s\n",
      "149:\ttotal: 792ms\tremaining: 1.58s\n",
      "150:\ttotal: 798ms\tremaining: 1.58s\n",
      "151:\ttotal: 805ms\tremaining: 1.58s\n",
      "152:\ttotal: 810ms\tremaining: 1.57s\n",
      "153:\ttotal: 817ms\tremaining: 1.57s\n",
      "154:\ttotal: 823ms\tremaining: 1.57s\n",
      "155:\ttotal: 828ms\tremaining: 1.56s\n",
      "156:\ttotal: 833ms\tremaining: 1.55s\n",
      "157:\ttotal: 837ms\tremaining: 1.55s\n",
      "158:\ttotal: 842ms\tremaining: 1.54s\n",
      "159:\ttotal: 847ms\tremaining: 1.53s\n",
      "160:\ttotal: 850ms\tremaining: 1.52s\n",
      "161:\ttotal: 855ms\tremaining: 1.52s\n",
      "162:\ttotal: 860ms\tremaining: 1.51s\n",
      "163:\ttotal: 865ms\tremaining: 1.51s\n",
      "164:\ttotal: 870ms\tremaining: 1.5s\n",
      "165:\ttotal: 874ms\tremaining: 1.5s\n",
      "166:\ttotal: 876ms\tremaining: 1.48s\n",
      "167:\ttotal: 881ms\tremaining: 1.48s\n",
      "168:\ttotal: 885ms\tremaining: 1.47s\n",
      "169:\ttotal: 890ms\tremaining: 1.47s\n",
      "170:\ttotal: 895ms\tremaining: 1.46s\n",
      "171:\ttotal: 898ms\tremaining: 1.45s\n",
      "172:\ttotal: 902ms\tremaining: 1.44s\n",
      "173:\ttotal: 908ms\tremaining: 1.44s\n",
      "174:\ttotal: 911ms\tremaining: 1.43s\n",
      "175:\ttotal: 915ms\tremaining: 1.43s\n",
      "176:\ttotal: 921ms\tremaining: 1.42s\n",
      "177:\ttotal: 925ms\tremaining: 1.41s\n",
      "178:\ttotal: 930ms\tremaining: 1.41s\n",
      "179:\ttotal: 933ms\tremaining: 1.4s\n",
      "180:\ttotal: 938ms\tremaining: 1.39s\n",
      "181:\ttotal: 944ms\tremaining: 1.39s\n",
      "182:\ttotal: 949ms\tremaining: 1.38s\n",
      "183:\ttotal: 955ms\tremaining: 1.38s\n",
      "184:\ttotal: 960ms\tremaining: 1.38s\n",
      "185:\ttotal: 963ms\tremaining: 1.37s\n",
      "186:\ttotal: 968ms\tremaining: 1.36s\n",
      "187:\ttotal: 973ms\tremaining: 1.35s\n",
      "188:\ttotal: 977ms\tremaining: 1.35s\n",
      "189:\ttotal: 982ms\tremaining: 1.34s\n",
      "190:\ttotal: 988ms\tremaining: 1.34s\n",
      "191:\ttotal: 997ms\tremaining: 1.34s\n",
      "192:\ttotal: 1s\tremaining: 1.34s\n",
      "193:\ttotal: 1.01s\tremaining: 1.34s\n",
      "194:\ttotal: 1.02s\tremaining: 1.34s\n",
      "195:\ttotal: 1.03s\tremaining: 1.33s\n",
      "196:\ttotal: 1.03s\tremaining: 1.33s\n",
      "197:\ttotal: 1.04s\tremaining: 1.32s\n",
      "198:\ttotal: 1.04s\tremaining: 1.32s\n",
      "199:\ttotal: 1.05s\tremaining: 1.31s\n",
      "200:\ttotal: 1.05s\tremaining: 1.3s\n",
      "201:\ttotal: 1.06s\tremaining: 1.3s\n",
      "202:\ttotal: 1.06s\tremaining: 1.29s\n",
      "203:\ttotal: 1.07s\tremaining: 1.29s\n",
      "204:\ttotal: 1.07s\tremaining: 1.28s\n",
      "205:\ttotal: 1.08s\tremaining: 1.28s\n",
      "206:\ttotal: 1.08s\tremaining: 1.27s\n",
      "207:\ttotal: 1.09s\tremaining: 1.26s\n",
      "208:\ttotal: 1.09s\tremaining: 1.26s\n",
      "209:\ttotal: 1.1s\tremaining: 1.25s\n",
      "210:\ttotal: 1.1s\tremaining: 1.25s\n",
      "211:\ttotal: 1.11s\tremaining: 1.24s\n",
      "212:\ttotal: 1.11s\tremaining: 1.24s\n",
      "213:\ttotal: 1.12s\tremaining: 1.23s\n",
      "214:\ttotal: 1.12s\tremaining: 1.23s\n",
      "215:\ttotal: 1.13s\tremaining: 1.22s\n",
      "216:\ttotal: 1.13s\tremaining: 1.22s\n",
      "217:\ttotal: 1.14s\tremaining: 1.21s\n",
      "218:\ttotal: 1.14s\tremaining: 1.2s\n",
      "219:\ttotal: 1.15s\tremaining: 1.2s\n",
      "220:\ttotal: 1.15s\tremaining: 1.19s\n",
      "221:\ttotal: 1.16s\tremaining: 1.19s\n",
      "222:\ttotal: 1.16s\tremaining: 1.18s\n",
      "223:\ttotal: 1.17s\tremaining: 1.18s\n",
      "224:\ttotal: 1.17s\tremaining: 1.17s\n",
      "225:\ttotal: 1.18s\tremaining: 1.17s\n",
      "226:\ttotal: 1.18s\tremaining: 1.16s\n",
      "227:\ttotal: 1.19s\tremaining: 1.16s\n",
      "228:\ttotal: 1.2s\tremaining: 1.16s\n",
      "229:\ttotal: 1.21s\tremaining: 1.16s\n",
      "230:\ttotal: 1.22s\tremaining: 1.16s\n",
      "231:\ttotal: 1.22s\tremaining: 1.15s\n",
      "232:\ttotal: 1.23s\tremaining: 1.15s\n",
      "233:\ttotal: 1.23s\tremaining: 1.14s\n",
      "234:\ttotal: 1.24s\tremaining: 1.13s\n",
      "235:\ttotal: 1.24s\tremaining: 1.13s\n",
      "236:\ttotal: 1.25s\tremaining: 1.12s\n",
      "237:\ttotal: 1.25s\tremaining: 1.12s\n",
      "238:\ttotal: 1.26s\tremaining: 1.11s\n",
      "239:\ttotal: 1.26s\tremaining: 1.11s\n",
      "240:\ttotal: 1.27s\tremaining: 1.1s\n",
      "241:\ttotal: 1.27s\tremaining: 1.1s\n",
      "242:\ttotal: 1.28s\tremaining: 1.09s\n",
      "243:\ttotal: 1.28s\tremaining: 1.08s\n",
      "244:\ttotal: 1.29s\tremaining: 1.08s\n",
      "245:\ttotal: 1.29s\tremaining: 1.07s\n",
      "246:\ttotal: 1.3s\tremaining: 1.07s\n",
      "247:\ttotal: 1.3s\tremaining: 1.06s\n",
      "248:\ttotal: 1.31s\tremaining: 1.06s\n",
      "249:\ttotal: 1.31s\tremaining: 1.05s\n",
      "250:\ttotal: 1.32s\tremaining: 1.05s\n",
      "251:\ttotal: 1.33s\tremaining: 1.04s\n",
      "252:\ttotal: 1.33s\tremaining: 1.04s\n",
      "253:\ttotal: 1.34s\tremaining: 1.03s\n",
      "254:\ttotal: 1.34s\tremaining: 1.03s\n",
      "255:\ttotal: 1.35s\tremaining: 1.02s\n",
      "256:\ttotal: 1.36s\tremaining: 1.02s\n",
      "257:\ttotal: 1.36s\tremaining: 1.01s\n",
      "258:\ttotal: 1.37s\tremaining: 1.01s\n",
      "259:\ttotal: 1.37s\tremaining: 1s\n",
      "260:\ttotal: 1.38s\tremaining: 997ms\n",
      "261:\ttotal: 1.38s\tremaining: 991ms\n"
     ]
    },
    {
     "name": "stdout",
     "output_type": "stream",
     "text": [
      "262:\ttotal: 1.39s\tremaining: 986ms\n",
      "263:\ttotal: 1.4s\tremaining: 984ms\n",
      "264:\ttotal: 1.4s\tremaining: 979ms\n",
      "265:\ttotal: 1.41s\tremaining: 975ms\n",
      "266:\ttotal: 1.42s\tremaining: 972ms\n",
      "267:\ttotal: 1.42s\tremaining: 966ms\n",
      "268:\ttotal: 1.43s\tremaining: 961ms\n",
      "269:\ttotal: 1.43s\tremaining: 956ms\n",
      "270:\ttotal: 1.44s\tremaining: 951ms\n",
      "271:\ttotal: 1.44s\tremaining: 945ms\n",
      "272:\ttotal: 1.45s\tremaining: 940ms\n",
      "273:\ttotal: 1.45s\tremaining: 935ms\n",
      "274:\ttotal: 1.46s\tremaining: 929ms\n",
      "275:\ttotal: 1.47s\tremaining: 924ms\n",
      "276:\ttotal: 1.47s\tremaining: 919ms\n",
      "277:\ttotal: 1.48s\tremaining: 913ms\n",
      "278:\ttotal: 1.48s\tremaining: 907ms\n",
      "279:\ttotal: 1.49s\tremaining: 902ms\n",
      "280:\ttotal: 1.49s\tremaining: 897ms\n",
      "281:\ttotal: 1.5s\tremaining: 892ms\n",
      "282:\ttotal: 1.5s\tremaining: 886ms\n",
      "283:\ttotal: 1.51s\tremaining: 881ms\n",
      "284:\ttotal: 1.51s\tremaining: 876ms\n",
      "285:\ttotal: 1.52s\tremaining: 871ms\n",
      "286:\ttotal: 1.52s\tremaining: 865ms\n",
      "287:\ttotal: 1.53s\tremaining: 860ms\n",
      "288:\ttotal: 1.53s\tremaining: 854ms\n",
      "289:\ttotal: 1.54s\tremaining: 849ms\n",
      "290:\ttotal: 1.54s\tremaining: 844ms\n",
      "291:\ttotal: 1.55s\tremaining: 838ms\n",
      "292:\ttotal: 1.55s\tremaining: 833ms\n",
      "293:\ttotal: 1.56s\tremaining: 827ms\n",
      "294:\ttotal: 1.56s\tremaining: 822ms\n",
      "295:\ttotal: 1.57s\tremaining: 817ms\n",
      "296:\ttotal: 1.57s\tremaining: 811ms\n",
      "297:\ttotal: 1.58s\tremaining: 806ms\n",
      "298:\ttotal: 1.59s\tremaining: 802ms\n",
      "299:\ttotal: 1.6s\tremaining: 800ms\n",
      "300:\ttotal: 1.61s\tremaining: 795ms\n",
      "301:\ttotal: 1.61s\tremaining: 791ms\n",
      "302:\ttotal: 1.62s\tremaining: 785ms\n",
      "303:\ttotal: 1.62s\tremaining: 780ms\n",
      "304:\ttotal: 1.63s\tremaining: 774ms\n",
      "305:\ttotal: 1.63s\tremaining: 769ms\n",
      "306:\ttotal: 1.64s\tremaining: 764ms\n",
      "307:\ttotal: 1.64s\tremaining: 758ms\n",
      "308:\ttotal: 1.65s\tremaining: 753ms\n",
      "309:\ttotal: 1.66s\tremaining: 748ms\n",
      "310:\ttotal: 1.66s\tremaining: 743ms\n",
      "311:\ttotal: 1.67s\tremaining: 737ms\n",
      "312:\ttotal: 1.67s\tremaining: 732ms\n",
      "313:\ttotal: 1.68s\tremaining: 726ms\n",
      "314:\ttotal: 1.68s\tremaining: 721ms\n",
      "315:\ttotal: 1.69s\tremaining: 716ms\n",
      "316:\ttotal: 1.69s\tremaining: 710ms\n",
      "317:\ttotal: 1.7s\tremaining: 705ms\n",
      "318:\ttotal: 1.7s\tremaining: 700ms\n",
      "319:\ttotal: 1.71s\tremaining: 695ms\n",
      "320:\ttotal: 1.72s\tremaining: 690ms\n",
      "321:\ttotal: 1.73s\tremaining: 686ms\n",
      "322:\ttotal: 1.73s\tremaining: 680ms\n",
      "323:\ttotal: 1.74s\tremaining: 675ms\n",
      "324:\ttotal: 1.74s\tremaining: 670ms\n",
      "325:\ttotal: 1.75s\tremaining: 665ms\n",
      "326:\ttotal: 1.75s\tremaining: 660ms\n",
      "327:\ttotal: 1.76s\tremaining: 655ms\n",
      "328:\ttotal: 1.77s\tremaining: 650ms\n",
      "329:\ttotal: 1.77s\tremaining: 646ms\n",
      "330:\ttotal: 1.78s\tremaining: 640ms\n",
      "331:\ttotal: 1.79s\tremaining: 636ms\n",
      "332:\ttotal: 1.8s\tremaining: 632ms\n",
      "333:\ttotal: 1.81s\tremaining: 628ms\n",
      "334:\ttotal: 1.81s\tremaining: 623ms\n",
      "335:\ttotal: 1.82s\tremaining: 618ms\n",
      "336:\ttotal: 1.83s\tremaining: 613ms\n",
      "337:\ttotal: 1.83s\tremaining: 607ms\n",
      "338:\ttotal: 1.84s\tremaining: 602ms\n",
      "339:\ttotal: 1.84s\tremaining: 597ms\n",
      "340:\ttotal: 1.85s\tremaining: 592ms\n",
      "341:\ttotal: 1.86s\tremaining: 587ms\n",
      "342:\ttotal: 1.86s\tremaining: 582ms\n",
      "343:\ttotal: 1.87s\tremaining: 577ms\n",
      "344:\ttotal: 1.88s\tremaining: 572ms\n",
      "345:\ttotal: 1.88s\tremaining: 567ms\n",
      "346:\ttotal: 1.89s\tremaining: 562ms\n",
      "347:\ttotal: 1.9s\tremaining: 556ms\n",
      "348:\ttotal: 1.91s\tremaining: 551ms\n",
      "349:\ttotal: 1.91s\tremaining: 546ms\n",
      "350:\ttotal: 1.92s\tremaining: 541ms\n",
      "351:\ttotal: 1.92s\tremaining: 535ms\n",
      "352:\ttotal: 1.93s\tremaining: 530ms\n",
      "353:\ttotal: 1.94s\tremaining: 525ms\n",
      "354:\ttotal: 1.94s\tremaining: 520ms\n",
      "355:\ttotal: 1.95s\tremaining: 514ms\n",
      "356:\ttotal: 1.96s\tremaining: 509ms\n",
      "357:\ttotal: 1.96s\tremaining: 504ms\n",
      "358:\ttotal: 1.97s\tremaining: 499ms\n",
      "359:\ttotal: 1.97s\tremaining: 494ms\n",
      "360:\ttotal: 1.98s\tremaining: 488ms\n",
      "361:\ttotal: 1.99s\tremaining: 484ms\n",
      "362:\ttotal: 2s\tremaining: 478ms\n",
      "363:\ttotal: 2s\tremaining: 474ms\n",
      "364:\ttotal: 2.02s\tremaining: 470ms\n",
      "365:\ttotal: 2.02s\tremaining: 464ms\n",
      "366:\ttotal: 2.03s\tremaining: 459ms\n",
      "367:\ttotal: 2.04s\tremaining: 454ms\n",
      "368:\ttotal: 2.04s\tremaining: 448ms\n",
      "369:\ttotal: 2.05s\tremaining: 443ms\n",
      "370:\ttotal: 2.06s\tremaining: 438ms\n",
      "371:\ttotal: 2.06s\tremaining: 433ms\n",
      "372:\ttotal: 2.07s\tremaining: 427ms\n",
      "373:\ttotal: 2.07s\tremaining: 422ms\n",
      "374:\ttotal: 2.08s\tremaining: 416ms\n",
      "375:\ttotal: 2.09s\tremaining: 411ms\n",
      "376:\ttotal: 2.09s\tremaining: 405ms\n",
      "377:\ttotal: 2.1s\tremaining: 400ms\n",
      "378:\ttotal: 2.1s\tremaining: 395ms\n",
      "379:\ttotal: 2.11s\tremaining: 389ms\n",
      "380:\ttotal: 2.12s\tremaining: 383ms\n",
      "381:\ttotal: 2.12s\tremaining: 378ms\n",
      "382:\ttotal: 2.13s\tremaining: 372ms\n",
      "383:\ttotal: 2.13s\tremaining: 367ms\n",
      "384:\ttotal: 2.14s\tremaining: 361ms\n",
      "385:\ttotal: 2.14s\tremaining: 355ms\n",
      "386:\ttotal: 2.15s\tremaining: 350ms\n",
      "387:\ttotal: 2.15s\tremaining: 344ms\n",
      "388:\ttotal: 2.16s\tremaining: 339ms\n",
      "389:\ttotal: 2.16s\tremaining: 333ms\n",
      "390:\ttotal: 2.17s\tremaining: 327ms\n",
      "391:\ttotal: 2.17s\tremaining: 322ms\n",
      "392:\ttotal: 2.18s\tremaining: 316ms\n",
      "393:\ttotal: 2.19s\tremaining: 311ms\n",
      "394:\ttotal: 2.19s\tremaining: 305ms\n",
      "395:\ttotal: 2.2s\tremaining: 300ms\n",
      "396:\ttotal: 2.21s\tremaining: 295ms\n",
      "397:\ttotal: 2.21s\tremaining: 290ms\n",
      "398:\ttotal: 2.22s\tremaining: 284ms\n",
      "399:\ttotal: 2.23s\tremaining: 278ms\n",
      "400:\ttotal: 2.23s\tremaining: 273ms\n",
      "401:\ttotal: 2.24s\tremaining: 267ms\n",
      "402:\ttotal: 2.24s\tremaining: 262ms\n",
      "403:\ttotal: 2.25s\tremaining: 256ms\n",
      "404:\ttotal: 2.25s\tremaining: 250ms\n",
      "405:\ttotal: 2.26s\tremaining: 245ms\n",
      "406:\ttotal: 2.26s\tremaining: 239ms\n",
      "407:\ttotal: 2.27s\tremaining: 234ms\n",
      "408:\ttotal: 2.27s\tremaining: 228ms\n",
      "409:\ttotal: 2.28s\tremaining: 222ms\n",
      "410:\ttotal: 2.29s\tremaining: 217ms\n",
      "411:\ttotal: 2.29s\tremaining: 211ms\n",
      "412:\ttotal: 2.3s\tremaining: 206ms\n",
      "413:\ttotal: 2.3s\tremaining: 200ms\n",
      "414:\ttotal: 2.31s\tremaining: 195ms\n",
      "415:\ttotal: 2.31s\tremaining: 189ms\n",
      "416:\ttotal: 2.32s\tremaining: 184ms\n",
      "417:\ttotal: 2.33s\tremaining: 178ms\n",
      "418:\ttotal: 2.34s\tremaining: 173ms\n",
      "419:\ttotal: 2.34s\tremaining: 167ms\n",
      "420:\ttotal: 2.35s\tremaining: 162ms\n",
      "421:\ttotal: 2.35s\tremaining: 156ms\n",
      "422:\ttotal: 2.36s\tremaining: 151ms\n",
      "423:\ttotal: 2.37s\tremaining: 145ms\n",
      "424:\ttotal: 2.37s\tremaining: 140ms\n",
      "425:\ttotal: 2.38s\tremaining: 134ms\n",
      "426:\ttotal: 2.38s\tremaining: 129ms\n",
      "427:\ttotal: 2.39s\tremaining: 123ms\n",
      "428:\ttotal: 2.41s\tremaining: 118ms\n",
      "429:\ttotal: 2.41s\tremaining: 112ms\n",
      "430:\ttotal: 2.42s\tremaining: 107ms\n",
      "431:\ttotal: 2.42s\tremaining: 101ms\n",
      "432:\ttotal: 2.43s\tremaining: 95.3ms\n",
      "433:\ttotal: 2.43s\tremaining: 89.7ms\n",
      "434:\ttotal: 2.44s\tremaining: 84.1ms\n",
      "435:\ttotal: 2.44s\tremaining: 78.5ms\n",
      "436:\ttotal: 2.45s\tremaining: 72.9ms\n",
      "437:\ttotal: 2.46s\tremaining: 67.3ms\n",
      "438:\ttotal: 2.46s\tremaining: 61.7ms\n",
      "439:\ttotal: 2.47s\tremaining: 56.1ms\n",
      "440:\ttotal: 2.48s\tremaining: 50.6ms\n",
      "441:\ttotal: 2.48s\tremaining: 44.9ms\n",
      "442:\ttotal: 2.49s\tremaining: 39.3ms\n",
      "443:\ttotal: 2.49s\tremaining: 33.7ms\n",
      "444:\ttotal: 2.5s\tremaining: 28.1ms\n",
      "445:\ttotal: 2.5s\tremaining: 22.5ms\n",
      "446:\ttotal: 2.51s\tremaining: 16.8ms\n",
      "447:\ttotal: 2.52s\tremaining: 11.2ms\n",
      "448:\ttotal: 2.52s\tremaining: 5.62ms\n",
      "449:\ttotal: 2.53s\tremaining: 0us\n"
     ]
    }
   ],
   "source": [
    "#cat_clf.fit(X_train, \n",
    "#            y_train, \n",
    "#            cat_features=cat_cols)   \n",
    "\n",
    "#y_pred = cat_clf.predict_proba(X_test)"
   ]
  },
  {
   "cell_type": "code",
   "execution_count": 221,
   "metadata": {},
   "outputs": [],
   "source": [
    "#cat_clf.get_all_params()"
   ]
  },
  {
   "cell_type": "code",
   "execution_count": 283,
   "metadata": {},
   "outputs": [
    {
     "data": {
      "text/plain": [
       "0.8301710364699255"
      ]
     },
     "execution_count": 283,
     "metadata": {},
     "output_type": "execute_result"
    }
   ],
   "source": [
    "#roc_auc_score(y_test, y_pred[:, 1])"
   ]
  },
  {
   "cell_type": "markdown",
   "metadata": {
    "id": "rf4Kjt96EEZU"
   },
   "source": [
    "Выпишите какое лучшее качество и с какими параметрами вам удалось получить"
   ]
  },
  {
   "cell_type": "markdown",
   "metadata": {
    "id": "d2d9GolXEEZV"
   },
   "source": []
  },
  {
   "cell_type": "markdown",
   "metadata": {
    "id": "dDMXbvNZEEZV"
   },
   "source": [
    "# Предсказания"
   ]
  },
  {
   "cell_type": "code",
   "execution_count": 284,
   "metadata": {
    "id": "G_P4wFNaEEZW",
    "outputId": "1fba5dfc-88e4-49e3-ed8a-afe21ae3325a"
   },
   "outputs": [],
   "source": [
    "best_model = cat_clf"
   ]
  },
  {
   "cell_type": "code",
   "execution_count": 160,
   "metadata": {},
   "outputs": [],
   "source": [
    "# Запускать, только если модель не преобразует категориальные признаки\n",
    "# X_test = pd.read_csv('./test.csv')\n",
    "# X_test = X_test.fillna(0)\n",
    "# X_test_cat = pd.DataFrame(enc.transform(X_test[cat_cols]).toarray())\n",
    "# X_test = pd.concat([X_test[num_cols], X_test_cat], axis=1)"
   ]
  },
  {
   "cell_type": "code",
   "execution_count": 285,
   "metadata": {
    "id": "FfSufx0CEEZZ"
   },
   "outputs": [],
   "source": [
    "X_test = pd.read_csv('./test.csv')  # Закомментировать, если активна предыдущая ячейка\n",
    "submission = pd.read_csv('./submission.csv')\n",
    "\n",
    "submission['Churn'] = best_model.predict_proba(X_test)[:, 1]\n",
    "submission.to_csv('./my_submission.csv', index=False)"
   ]
  },
  {
   "cell_type": "markdown",
   "metadata": {},
   "source": [
    "### Мой скор на kaggle: 0.85373"
   ]
  },
  {
   "cell_type": "code",
   "execution_count": null,
   "metadata": {},
   "outputs": [],
   "source": [
    "#314648089"
   ]
  },
  {
   "cell_type": "markdown",
   "metadata": {
    "id": "mkxjbGkVEEZc"
   },
   "source": [
    "# Kaggle (5 баллов)\n",
    "\n",
    "Как выставить баллы:\n",
    "\n",
    "1) 1 >= roc auc > 0.84 это 5 баллов\n",
    "\n",
    "2) 0.84 >= roc auc > 0.7 это 3 балла\n",
    "\n",
    "3) 0.7 >= roc auc > 0.6 это 1 балл\n",
    "\n",
    "4) 0.6 >= roc auc это 0 баллов\n",
    "\n",
    "\n",
    "Для выполнения задания необходимо выполнить следующие шаги.\n",
    "* Зарегистрироваться на платформе [kaggle.com](kaggle.com). Процесс выставления оценок будет проходить при подведении итогового рейтинга. Пожалуйста, укажите во вкладке Team -> Team name свои имя и фамилию в формате Имя_Фамилия (важно, чтобы имя и фамилия совпадали с данными на Stepik).\n",
    "* Обучить модель, получить файл с ответами в формате .csv и сдать его в конкурс. Пробуйте и экспериментируйте. Обратите внимание, что вы можете выполнять до 20 попыток сдачи на kaggle в день.\n",
    "* После окончания соревнования отправить в итоговый ноутбук с решением на степик. \n",
    "* После дедлайна проверьте посылки других участников по критериям. Для этого надо зайти на степик, скачать их ноутбук и проверить скор в соревновании."
   ]
  }
 ],
 "metadata": {
  "colab": {
   "collapsed_sections": [],
   "name": "Baseline.ipynb",
   "provenance": [],
   "toc_visible": true
  },
  "kernelspec": {
   "display_name": "Python 3",
   "language": "python",
   "name": "python3"
  },
  "language_info": {
   "codemirror_mode": {
    "name": "ipython",
    "version": 3
   },
   "file_extension": ".py",
   "mimetype": "text/x-python",
   "name": "python",
   "nbconvert_exporter": "python",
   "pygments_lexer": "ipython3",
   "version": "3.8.6"
  }
 },
 "nbformat": 4,
 "nbformat_minor": 1
}
